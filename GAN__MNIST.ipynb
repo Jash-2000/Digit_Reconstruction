{
  "nbformat": 4,
  "nbformat_minor": 0,
  "metadata": {
    "anaconda-cloud": {},
    "kernelspec": {
      "display_name": "Python [conda env:py3]",
      "language": "python",
      "name": "conda-env-py3-py"
    },
    "language_info": {
      "codemirror_mode": {
        "name": "ipython",
        "version": 3
      },
      "file_extension": ".py",
      "mimetype": "text/x-python",
      "name": "python",
      "nbconvert_exporter": "python",
      "pygments_lexer": "ipython3",
      "version": "3.5.2"
    },
    "colab": {
      "name": "GAN__MNIST.ipynb",
      "provenance": [],
      "collapsed_sections": []
    }
  },
  "cells": [
    {
      "cell_type": "markdown",
      "metadata": {
        "id": "xyhvv47FqPP4"
      },
      "source": [
        "# Loading MNIST Data"
      ]
    },
    {
      "cell_type": "code",
      "metadata": {
        "id": "at8xQEOwqPP6"
      },
      "source": [
        "import tensorflow as tf\n",
        "import random\n",
        "import numpy as np\n",
        "import matplotlib.pyplot as plt\n",
        "%matplotlib inline"
      ],
      "execution_count": null,
      "outputs": []
    },
    {
      "cell_type": "code",
      "metadata": {
        "id": "5MnWAZNEr0eu"
      },
      "source": [
        "import tensorflow_datasets\n",
        "mnist = tensorflow_datasets.load('mnist')"
      ],
      "execution_count": null,
      "outputs": []
    },
    {
      "cell_type": "code",
      "metadata": {
        "scrolled": true,
        "id": "rdzxUMXUqPP-"
      },
      "source": [
        "import tensorflow.examples.tutorials.mnist.input_data as input_data\n",
        "mnist = input_data.read_data_sets(\"MNIST_data/\")"
      ],
      "execution_count": null,
      "outputs": []
    },
    {
      "cell_type": "markdown",
      "metadata": {
        "id": "jZiPOCF_qPQC"
      },
      "source": [
        "The mnist variable we created above actually contains both the images and their labels. Let's just isolate the images for now. There will be 55,000 images and each of them will be of sixe 28 x 28."
      ]
    },
    {
      "cell_type": "code",
      "metadata": {
        "id": "OUQgQN0cqPQD"
      },
      "source": [
        "x_train = mnist.train.images[:55000,:]\n",
        "x_train.shape"
      ],
      "execution_count": null,
      "outputs": []
    },
    {
      "cell_type": "markdown",
      "metadata": {
        "id": "ErHHDjBBqPQF"
      },
      "source": [
        "Let's look at what a random image might look like. "
      ]
    },
    {
      "cell_type": "code",
      "metadata": {
        "id": "gSmtk_ETqPQG",
        "outputId": "14b5e01b-341e-412d-f14b-eac889011a9f"
      },
      "source": [
        "randomNum = random.randint(0,55000)\n",
        "image = x_train[randomNum].reshape([28,28])\n",
        "plt.imshow(image, cmap=plt.get_cmap('gray_r'))\n",
        "plt.show()"
      ],
      "execution_count": null,
      "outputs": [
        {
          "output_type": "display_data",
          "data": {
            "image/png": "[encoded data removed]",
            "text/plain": [
              "<matplotlib.figure.Figure at 0x11b0f2dd8>"
            ]
          },
          "metadata": {
            "tags": []
          }
        }
      ]
    },
    {
      "cell_type": "markdown",
      "metadata": {
        "id": "KEhweA9TqPQH"
      },
      "source": [
        "# Discriminator Network"
      ]
    },
    {
      "cell_type": "markdown",
      "metadata": {
        "id": "NVR3uVwHqPQK"
      },
      "source": [
        "In order to do that, let's first define some functions that will help us with creating CNNs in Tensorflow"
      ]
    },
    {
      "cell_type": "code",
      "metadata": {
        "collapsed": true,
        "id": "if3pPAdQqPQL"
      },
      "source": [
        "def conv2d(x, W):\n",
        "  return tf.nn.conv2d(input=x, filter=W, strides=[1, 1, 1, 1], padding='SAME')\n",
        "\n",
        "def avg_pool_2x2(x):\n",
        "  return tf.nn.avg_pool(x, ksize=[1, 2, 2, 1], strides=[1, 2, 2, 1], padding='SAME')"
      ],
      "execution_count": null,
      "outputs": []
    },
    {
      "cell_type": "markdown",
      "metadata": {
        "id": "1L_9OqqHqPQQ"
      },
      "source": [
        "As with any convolutional neural network, this module is repeated, and then followed by a series of fully connected layers. At the end of the network, we do a final matrix multiply and return the activation value. For those of you comfortable with CNNs, this is just a simple binary classifier. Nothing fancy. "
      ]
    },
    {
      "cell_type": "markdown",
      "metadata": {
        "id": "r_-cFhybqPQT"
      },
      "source": [
        "This architecture for this network is based on Tensorflow's sample CNN classifier model that they have explained in detail here: https://www.tensorflow.org/tutorials/mnist/pros/"
      ]
    },
    {
      "cell_type": "code",
      "metadata": {
        "id": "1_XPce7EqPQU"
      },
      "source": [
        "def discriminator(x_image, reuse=False):\n",
        "    with tf.variable_scope('discriminator') as scope:\n",
        "        if (reuse):\n",
        "            tf.get_variable_scope().reuse_variables()\n",
        "        #First Conv and Pool Layers\n",
        "        W_conv1 = tf.get_variable('d_wconv1', [5, 5, 1, 8], initializer=tf.truncated_normal_initializer(stddev=0.02))\n",
        "        b_conv1 = tf.get_variable('d_bconv1', [8], initializer=tf.constant_initializer(0))\n",
        "        h_conv1 = tf.nn.relu(conv2d(x_image, W_conv1) + b_conv1)\n",
        "        h_pool1 = avg_pool_2x2(h_conv1)\n",
        "\n",
        "        #Second Conv and Pool Layers\n",
        "        W_conv2 = tf.get_variable('d_wconv2', [5, 5, 8, 16], initializer=tf.truncated_normal_initializer(stddev=0.02))\n",
        "        b_conv2 = tf.get_variable('d_bconv2', [16], initializer=tf.constant_initializer(0))\n",
        "        h_conv2 = tf.nn.relu(conv2d(h_pool1, W_conv2) + b_conv2)\n",
        "        h_pool2 = avg_pool_2x2(h_conv2)\n",
        "\n",
        "        #First Fully Connected Layer\n",
        "        W_fc1 = tf.get_variable('d_wfc1', [7 * 7 * 16, 32], initializer=tf.truncated_normal_initializer(stddev=0.02))\n",
        "        b_fc1 = tf.get_variable('d_bfc1', [32], initializer=tf.constant_initializer(0))\n",
        "        h_pool2_flat = tf.reshape(h_pool2, [-1, 7*7*16])\n",
        "        h_fc1 = tf.nn.relu(tf.matmul(h_pool2_flat, W_fc1) + b_fc1)\n",
        "\n",
        "        #Second Fully Connected Layer\n",
        "        W_fc2 = tf.get_variable('d_wfc2', [32, 1], initializer=tf.truncated_normal_initializer(stddev=0.02))\n",
        "        b_fc2 = tf.get_variable('d_bfc2', [1], initializer=tf.constant_initializer(0))\n",
        "\n",
        "        #Final Layer\n",
        "        y_conv=(tf.matmul(h_fc1, W_fc2) + b_fc2)\n",
        "    return y_conv"
      ],
      "execution_count": null,
      "outputs": []
    },
    {
      "cell_type": "markdown",
      "metadata": {
        "id": "lQ_1nTK1qPQW"
      },
      "source": [
        "# Generator Network"
      ]
    },
    {
      "cell_type": "markdown",
      "metadata": {
        "id": "m6MIZAFLqPQY"
      },
      "source": [
        "The structure of the generator is very similar to that of the discriminator, except we're calling the convolution transpose method, instead of the conv2d one. "
      ]
    },
    {
      "cell_type": "markdown",
      "metadata": {
        "id": "5lCsHjByqPQZ"
      },
      "source": [
        "The conv transpose + relu + batch norm pipeline is repeated 4 times so that the output volume grows larger and larger until a 28 x 28 x 1 image is formed. "
      ]
    },
    {
      "cell_type": "code",
      "metadata": {
        "id": "E4joUm1qqPQa"
      },
      "source": [
        "def generator(z, batch_size, z_dim, reuse=False):\n",
        "    with tf.variable_scope('generator') as scope:\n",
        "        if (reuse):\n",
        "            tf.get_variable_scope().reuse_variables()\n",
        "        g_dim = 64 #Number of filters of first layer of generator \n",
        "        c_dim = 1 #Color dimension of output (MNIST is grayscale, so c_dim = 1 for us)\n",
        "        s = 28 #Output size of the image\n",
        "        s2, s4, s8, s16 = int(s/2), int(s/4), int(s/8), int(s/16) #We want to slowly upscale the image, so these values will help\n",
        "                                                                  #make that change gradual.\n",
        "\n",
        "        h0 = tf.reshape(z, [batch_size, s16+1, s16+1, 25])\n",
        "        h0 = tf.nn.relu(h0)\n",
        "        #Dimensions of h0 = batch_size x 2 x 2 x 25\n",
        "\n",
        "        #First DeConv Layer\n",
        "        output1_shape = [batch_size, s8, s8, g_dim*4]\n",
        "        W_conv1 = tf.get_variable('g_wconv1', [5, 5, output1_shape[-1], int(h0.get_shape()[-1])], \n",
        "                                  initializer=tf.truncated_normal_initializer(stddev=0.1))\n",
        "        b_conv1 = tf.get_variable('g_bconv1', [output1_shape[-1]], initializer=tf.constant_initializer(.1))\n",
        "        H_conv1 = tf.nn.conv2d_transpose(h0, W_conv1, output_shape=output1_shape, strides=[1, 2, 2, 1], padding='SAME')\n",
        "        H_conv1 = tf.contrib.layers.batch_norm(inputs = H_conv1, center=True, scale=True, is_training=True, scope=\"g_bn1\")\n",
        "        H_conv1 = tf.nn.relu(H_conv1)\n",
        "        #Dimensions of H_conv1 = batch_size x 3 x 3 x 256\n",
        "\n",
        "        #Second DeConv Layer\n",
        "        output2_shape = [batch_size, s4 - 1, s4 - 1, g_dim*2]\n",
        "        W_conv2 = tf.get_variable('g_wconv2', [5, 5, output2_shape[-1], int(H_conv1.get_shape()[-1])], \n",
        "                                  initializer=tf.truncated_normal_initializer(stddev=0.1))\n",
        "        b_conv2 = tf.get_variable('g_bconv2', [output2_shape[-1]], initializer=tf.constant_initializer(.1))\n",
        "        H_conv2 = tf.nn.conv2d_transpose(H_conv1, W_conv2, output_shape=output2_shape, strides=[1, 2, 2, 1], padding='SAME')\n",
        "        H_conv2 = tf.contrib.layers.batch_norm(inputs = H_conv2, center=True, scale=True, is_training=True, scope=\"g_bn2\")\n",
        "        H_conv2 = tf.nn.relu(H_conv2)\n",
        "        #Dimensions of H_conv2 = batch_size x 6 x 6 x 128\n",
        "\n",
        "        #Third DeConv Layer\n",
        "        output3_shape = [batch_size, s2 - 2, s2 - 2, g_dim*1]\n",
        "        W_conv3 = tf.get_variable('g_wconv3', [5, 5, output3_shape[-1], int(H_conv2.get_shape()[-1])], \n",
        "                                  initializer=tf.truncated_normal_initializer(stddev=0.1))\n",
        "        b_conv3 = tf.get_variable('g_bconv3', [output3_shape[-1]], initializer=tf.constant_initializer(.1))\n",
        "        H_conv3 = tf.nn.conv2d_transpose(H_conv2, W_conv3, output_shape=output3_shape, strides=[1, 2, 2, 1], padding='SAME')\n",
        "        H_conv3 = tf.contrib.layers.batch_norm(inputs = H_conv3, center=True, scale=True, is_training=True, scope=\"g_bn3\")\n",
        "        H_conv3 = tf.nn.relu(H_conv3)\n",
        "        #Dimensions of H_conv3 = batch_size x 12 x 12 x 64\n",
        "\n",
        "        #Fourth DeConv Layer\n",
        "        output4_shape = [batch_size, s, s, c_dim]\n",
        "        W_conv4 = tf.get_variable('g_wconv4', [5, 5, output4_shape[-1], int(H_conv3.get_shape()[-1])], \n",
        "                                  initializer=tf.truncated_normal_initializer(stddev=0.1))\n",
        "        b_conv4 = tf.get_variable('g_bconv4', [output4_shape[-1]], initializer=tf.constant_initializer(.1))\n",
        "        H_conv4 = tf.nn.conv2d_transpose(H_conv3, W_conv4, output_shape=output4_shape, strides=[1, 2, 2, 1], padding='VALID')\n",
        "        H_conv4 = tf.nn.tanh(H_conv4)\n",
        "        #Dimensions of H_conv4 = batch_size x 28 x 28 x 1\n",
        "\n",
        "    return H_conv4"
      ],
      "execution_count": null,
      "outputs": []
    },
    {
      "cell_type": "markdown",
      "metadata": {
        "id": "3vAYhnbRqPQj"
      },
      "source": [
        "## Generating a Sample Image "
      ]
    },
    {
      "cell_type": "code",
      "metadata": {
        "collapsed": true,
        "id": "Uba_VMnCqPQr"
      },
      "source": [
        "sess = tf.Session()\n",
        "z_dimensions = 100\n",
        "z_test_placeholder = tf.placeholder(tf.float32, [None, z_dimensions])"
      ],
      "execution_count": null,
      "outputs": []
    },
    {
      "cell_type": "markdown",
      "metadata": {
        "id": "k7BNciycqPQt"
      },
      "source": [
        "Now, we create a variable (sample_image) that holds the output of the generator, and also initialize the random noise vector that we�ll use as input. The np.random.normal function has three arguments. The first and second define the range of the output distribution we want (between -1 and 1 in our case), and the third defines the the shape of the vector (1 x 100)."
      ]
    },
    {
      "cell_type": "code",
      "metadata": {
        "id": "QEjwr7K-qPQu"
      },
      "source": [
        "sample_image = generator(z_test_placeholder, 1, z_dimensions)\n",
        "test_z = np.random.normal(-1, 1, [1,z_dimensions])"
      ],
      "execution_count": null,
      "outputs": []
    },
    {
      "cell_type": "markdown",
      "metadata": {
        "id": "cDG0EmRBqPQu"
      },
      "source": [
        "Next, we initialize all the variables, feed our test_z into the placeholder, and run the session. The sess.run function has two arguments. The first is called the \"fetches\" argument. It defines the value for you're interested in computing. For example, in our case, we want to see what the output of the generator is. If you look back at the last code snippet, the output of the generator function is stored in sample_image. Therefore, we'll use sample_image for our first argument. The second argument is where we input our feed_dict. This data structure is where we provide inputs to all of our placeholders. In our example, we need to feed our test_z variable into the z placeholder we defined earlier. "
      ]
    },
    {
      "cell_type": "code",
      "metadata": {
        "collapsed": true,
        "id": "J4KmkYEMqPQv"
      },
      "source": [
        "sess.run(tf.global_variables_initializer())\n",
        "temp = (sess.run(sample_image, feed_dict={z_test_placeholder: test_z}))"
      ],
      "execution_count": null,
      "outputs": []
    },
    {
      "cell_type": "markdown",
      "metadata": {
        "id": "UsacOpnPqPQw"
      },
      "source": [
        "Finally, we can view the output through matplotlib. "
      ]
    },
    {
      "cell_type": "code",
      "metadata": {
        "id": "lKAhK2G_qPQx",
        "outputId": "1e0d6f61-5eb7-42ad-b71c-e7f49131f7af"
      },
      "source": [
        "my_i = temp.squeeze()\n",
        "plt.imshow(my_i, cmap='gray_r')\n",
        "plt.show()"
      ],
      "execution_count": null,
      "outputs": [
        {
          "output_type": "display_data",
          "data": {
            "image/png": "[encoded data removed]",
            "text/plain": [
              "<matplotlib.figure.Figure at 0x12447ca90>"
            ]
          },
          "metadata": {
            "tags": []
          }
        }
      ]
    },
    {
      "cell_type": "markdown",
      "metadata": {
        "id": "mqVIVigNqPQz"
      },
      "source": [
        "# Training a GAN"
      ]
    },
    {
      "cell_type": "code",
      "metadata": {
        "collapsed": true,
        "id": "273RVpVVqPQ1"
      },
      "source": [
        "batch_size = 16\n",
        "tf.reset_default_graph() #Since we changed our batch size (from 1 to 16), we need to reset our Tensorflow graph\n",
        "\n",
        "sess = tf.Session()\n",
        "x_placeholder = tf.placeholder(\"float\", shape = [None,28,28,1]) #Placeholder for input images to the discriminator\n",
        "z_placeholder = tf.placeholder(tf.float32, [None, z_dimensions]) #Placeholder for input noise vectors to the generator"
      ],
      "execution_count": null,
      "outputs": []
    },
    {
      "cell_type": "code",
      "metadata": {
        "id": "1B1Nt3-YqPQ7"
      },
      "source": [
        "Dx = discriminator(x_placeholder) #Dx will hold discriminator outputs (unnormalized) for the real MNIST images\n",
        "Gz = generator(z_placeholder, batch_size, z_dimensions) #Gz holds the generated images\n",
        "Dg = discriminator(Gz, reuse=True) #Dg will hold discriminator outputs (unnormalized) for generated images"
      ],
      "execution_count": null,
      "outputs": []
    },
    {
      "cell_type": "markdown",
      "metadata": {
        "id": "PjR9lV6GqPQ-"
      },
      "source": [
        "So, let's first think about what we want out of our networks. We want the generator network to create images that will fool the discriminator. The generator wants the discriminator to output a 1 (positive example). Therefore, we want to compute the loss between the Dg and label of 1. This can be done through the tf.nn.sigmoid_cross_entropy_with_logits function. This means that the cross entropy loss will be taken between the two arguments. The \"with_logits\" component means that the function will operate on unscaled values. Basically, this means that instead of using a softmax function to squish the output activations to probability values from 0 to 1, we simply return the unscaled value of the matrix multiplication. Take a look at the last line of our discriminator. There's no softmax or sigmoid layer at the end. "
      ]
    },
    {
      "cell_type": "markdown",
      "metadata": {
        "id": "-iFOGJzyqPRD"
      },
      "source": [
        "The reduce mean function just takes the mean value of all of the components in the matrixx returned by the cross entropy function. This is just a way of reducing the loss to a single scalar value, instead of a vector or matrix. "
      ]
    },
    {
      "cell_type": "code",
      "metadata": {
        "id": "1Is5EgfZqPRE"
      },
      "source": [
        "g_loss = tf.reduce_mean(tf.nn.sigmoid_cross_entropy_with_logits(logits=Dg, labels=tf.ones_like(Dg)))  "
      ],
      "execution_count": null,
      "outputs": []
    },
    {
      "cell_type": "markdown",
      "metadata": {
        "id": "bGHF088aqPRF"
      },
      "source": [
        "Now, let's think about the discriminator's point of view. Its goal is to just get the correct labels (output 1 for each MNIST digit and 0 for the generated ones). We'd like to compute the loss between Dx and the correct label of 1 as well as the loss between Dg and the correct label of 0. "
      ]
    },
    {
      "cell_type": "code",
      "metadata": {
        "id": "uZ58_BYnqPRG"
      },
      "source": [
        "d_loss_real = tf.reduce_mean(tf.nn.sigmoid_cross_entropy_with_logits(logits=Dx, labels=tf.ones_like(Dx)))\n",
        "d_loss_fake = tf.reduce_mean(tf.nn.sigmoid_cross_entropy_with_logits(logits=Dg, labels=tf.zeros_like(Dg)))\n",
        "d_loss = d_loss_real + d_loss_fake"
      ],
      "execution_count": null,
      "outputs": []
    },
    {
      "cell_type": "markdown",
      "metadata": {
        "id": "1MNfI7FWqPRH"
      },
      "source": [
        "Once we have our 2 loss functions (d_loss and g_loss), we need to define our optimizers. Keep in mind that the optimizer for the generator network needs to only update the generator's weights, not those of the discriminator. In order to make this distinction, we need to create 2 lists, one with the discriminator's weights and one with the generator's weights. This is where naming all of your Tensorflow variables can come in handy. "
      ]
    },
    {
      "cell_type": "code",
      "metadata": {
        "collapsed": true,
        "id": "x7tbHDFiqPRH"
      },
      "source": [
        "tvars = tf.trainable_variables()\n",
        "d_vars = [var for var in tvars if 'd_' in var.name]\n",
        "g_vars = [var for var in tvars if 'g_' in var.name]"
      ],
      "execution_count": null,
      "outputs": []
    },
    {
      "cell_type": "markdown",
      "metadata": {
        "id": "xhQ38ZQ0qPRI"
      },
      "source": [
        "Next, we specify our two optimizers. In today's era of deep learning, Adam \n",
        "seems to be the best SGD optimizer as it utilizes adaptive learning rates and momentum. We call Adam's minimize function and also specify the variables that we want it to update. "
      ]
    },
    {
      "cell_type": "code",
      "metadata": {
        "id": "EOpK30K3qPRJ"
      },
      "source": [
        "with tf.variable_scope(tf.get_variable_scope(), reuse=False):\n",
        "    trainerD = tf.train.AdamOptimizer().minimize(d_loss, var_list=d_vars)\n",
        "    trainerG = tf.train.AdamOptimizer().minimize(g_loss, var_list=g_vars)"
      ],
      "execution_count": null,
      "outputs": []
    },
    {
      "cell_type": "markdown",
      "metadata": {
        "id": "3L6RgO-xqPRL"
      },
      "source": [
        "Ah, now the best part of neural networks, the famous training loop. During every iteration, there will be two updates being made, one to the discriminator and one to the generator. For the generator update, we'll feed in a random z vector to the generator and pass that output to the discriminator to obtain a probability score (this is the Dg variable we specified earlier). As we remember from our loss function, the cross entropy loss gets minimized, and only the generator's weights and biases get updated. "
      ]
    },
    {
      "cell_type": "code",
      "metadata": {
        "scrolled": true,
        "id": "Hc_UuUweqPRO"
      },
      "source": [
        "sess.run(tf.global_variables_initializer())\n",
        "iterations = 3000\n",
        "for i in range(iterations):\n",
        "    z_batch = np.random.normal(-1, 1, size=[batch_size, z_dimensions])\n",
        "    real_image_batch = mnist.train.next_batch(batch_size)\n",
        "    real_image_batch = np.reshape(real_image_batch[0],[batch_size,28,28,1])\n",
        "    _,dLoss = sess.run([trainerD, d_loss],feed_dict={z_placeholder:z_batch,x_placeholder:real_image_batch}) #Update the discriminator\n",
        "    _,gLoss = sess.run([trainerG,g_loss],feed_dict={z_placeholder:z_batch}) #Update the generator "
      ],
      "execution_count": null,
      "outputs": []
    },
    {
      "cell_type": "markdown",
      "metadata": {
        "id": "9pSNqBcpqPRQ"
      },
      "source": [
        "Let's now see what a sample image looks like after training. "
      ]
    },
    {
      "cell_type": "code",
      "metadata": {
        "scrolled": true,
        "id": "Zp51mckVqPRR",
        "outputId": "5fe85bfe-95c7-445b-e579-56581aa75978"
      },
      "source": [
        "sample_image = generator(z_placeholder, 1, z_dimensions, reuse=True)\n",
        "z_batch = np.random.normal(-1, 1, size=[1, z_dimensions])\n",
        "temp = (sess.run(sample_image, feed_dict={z_placeholder: z_batch}))\n",
        "my_i = temp.squeeze()\n",
        "plt.imshow(my_i, cmap='gray_r')"
      ],
      "execution_count": null,
      "outputs": [
        {
          "output_type": "execute_result",
          "data": {
            "text/plain": [
              "<matplotlib.image.AxesImage at 0x7f37153e78d0>"
            ]
          },
          "metadata": {
            "tags": []
          },
          "execution_count": 162
        },
        {
          "output_type": "display_data",
          "data": {
            "image/png": "[encoded data removed]",
            "text/plain": [
              "<matplotlib.figure.Figure at 0x7f3715b814d0>"
            ]
          },
          "metadata": {
            "tags": []
          }
        }
      ]
    }
  ]
}